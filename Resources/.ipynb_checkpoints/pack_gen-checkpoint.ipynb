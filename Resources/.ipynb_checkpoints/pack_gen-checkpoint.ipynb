{
 "cells": [
  {
   "cell_type": "code",
   "execution_count": 1,
   "metadata": {},
   "outputs": [],
   "source": [
    "# Генератор пакетов с бинарными данными.\n",
    "# Структура пакета:\n",
    "# Сигнатура 4 (байта) 'PACK'\n",
    "# Длинна поле данных 4 (байта)\n",
    "# Данные\n",
    "# Контрольная сумма (2 байта)"
   ]
  },
  {
   "cell_type": "code",
   "execution_count": 2,
   "metadata": {},
   "outputs": [],
   "source": [
    "import os\n",
    "import random as rn\n",
    "import numpy as np\n",
    "import binascii as ba\n",
    "import crc16"
   ]
  },
  {
   "cell_type": "code",
   "execution_count": 3,
   "metadata": {},
   "outputs": [],
   "source": [
    "# Константы\n",
    "filename = 'package1.bin'\n",
    "min_data_size = 1_100_000\n",
    "max_data_size = 1_234_456\n",
    "min_item_value = 1\n",
    "max_item_value = 123"
   ]
  },
  {
   "cell_type": "code",
   "execution_count": 4,
   "metadata": {},
   "outputs": [
    {
     "name": "stdout",
     "output_type": "stream",
     "text": [
      "[80 65 67 75]\n",
      "1141837\n"
     ]
    }
   ],
   "source": [
    "# Инициаллизация\n",
    "bsignaute = bytearray('PACK',encoding='utf-8')\n",
    "nsignature = np.frombuffer(bsignaute, dtype=np.uint8)\n",
    "print(nsignature)\n",
    "data_size = rn.randint(min_data_size, max_data_size)\n",
    "print(data_size)"
   ]
  },
  {
   "cell_type": "code",
   "execution_count": 5,
   "metadata": {},
   "outputs": [
    {
     "name": "stdout",
     "output_type": "stream",
     "text": [
      "[0, 17, 108, 77]\n",
      "26174\n",
      "26174\n",
      "[62, 102]\n"
     ]
    }
   ],
   "source": [
    "# Генерация\n",
    "# Генерация длинны\n",
    "bdlength = [np.uint8((data_size // (256**n)) % 256) for n in reversed(range(4))]\n",
    "ndlength = np.array(bdlength, dtype=np.uint8)\n",
    "print(bdlength)\n",
    "# Генерация поля данных\n",
    "bdatalist = [rn.randint(min_item_value, max_item_value) for _ in range(data_size) ]\n",
    "ndatalist = np.array(bdatalist, dtype = np.uint8)\n",
    "# Подсчёт crc для поля данных\n",
    "crc = ba.crc_hqx(np.ndarray.tobytes(ndatalist), 0)\n",
    "crc2 = crc16.crc16xmodem(np.ndarray.tobytes(ndatalist), 0)\n",
    "print(crc)\n",
    "print(crc2)\n",
    "crclist = [np.uint8((crc // (256**n)) % 256) for n in range(2)]\n",
    "print(crclist)\n",
    "ncrclist = np.array(crclist, dtype = np.uint8)\n",
    "# Объединение всех полей в пакет\n",
    "package = np.concatenate((nsignature , ndlength , ndatalist, ncrclist), axis=None)"
   ]
  },
  {
   "cell_type": "code",
   "execution_count": 6,
   "metadata": {},
   "outputs": [],
   "source": [
    "# Сохранение\n",
    "newFile = open(filename, \"wb\")\n",
    "newFile.write(package.tobytes())\n",
    "newFile.flush()"
   ]
  },
  {
   "cell_type": "code",
   "execution_count": 7,
   "metadata": {},
   "outputs": [],
   "source": [
    "oldFile = open(filename, \"rb\")\n",
    "bpackage = oldFile.read()\n",
    "oldlist = list(bpackage)\n",
    "olddata = oldlist[8:-2]\n",
    "crc3 = crc16.crc16xmodem(bytes(olddata), 0)"
   ]
  },
  {
   "cell_type": "code",
   "execution_count": 8,
   "metadata": {},
   "outputs": [
    {
     "name": "stdout",
     "output_type": "stream",
     "text": [
      "26174\n"
     ]
    }
   ],
   "source": [
    "#print(ba.hexlify(bpackage))\n",
    "#print(oldlist)\n",
    "#print(olddata)\n",
    "print(crc3)"
   ]
  }
 ],
 "metadata": {
  "kernelspec": {
   "display_name": "Python 3",
   "language": "python",
   "name": "python3"
  },
  "language_info": {
   "codemirror_mode": {
    "name": "ipython",
    "version": 3
   },
   "file_extension": ".py",
   "mimetype": "text/x-python",
   "name": "python",
   "nbconvert_exporter": "python",
   "pygments_lexer": "ipython3",
   "version": "3.7.4"
  }
 },
 "nbformat": 4,
 "nbformat_minor": 2
}
